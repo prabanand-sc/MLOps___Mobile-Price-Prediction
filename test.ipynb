{
 "cells": [
  {
   "cell_type": "code",
   "execution_count": 1,
   "id": "a1273720",
   "metadata": {},
   "outputs": [
    {
     "name": "stdout",
     "output_type": "stream",
     "text": [
      "(1600, 20) (400, 20) (1000, 20)\n"
     ]
    }
   ],
   "source": [
    "from src.preprocessing import load_data, preprocess_data\n",
    "\n",
    "train_df, test_df = load_data(\"data/raw/train.csv\", \"data/raw/test.csv\")\n",
    "X_train, X_val, y_train, y_val, X_test, test_ids = preprocess_data(train_df, test_df)\n",
    "\n",
    "print(X_train.shape, X_val.shape, X_test.shape)\n"
   ]
  }
 ],
 "metadata": {
  "kernelspec": {
   "display_name": "base",
   "language": "python",
   "name": "python3"
  },
  "language_info": {
   "codemirror_mode": {
    "name": "ipython",
    "version": 3
   },
   "file_extension": ".py",
   "mimetype": "text/x-python",
   "name": "python",
   "nbconvert_exporter": "python",
   "pygments_lexer": "ipython3",
   "version": "3.13.5"
  }
 },
 "nbformat": 4,
 "nbformat_minor": 5
}
